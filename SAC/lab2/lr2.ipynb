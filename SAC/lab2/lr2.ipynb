{
 "cells": [
  {
   "cell_type": "markdown",
   "metadata": {
    "collapsed": false
   },
   "source": [
    "## Задание 1"
   ]
  },
  {
   "cell_type": "markdown",
   "metadata": {
    "collapsed": false
   },
   "source": [
    "### Вариант A"
   ]
  },
  {
   "cell_type": "markdown",
   "metadata": {
    "collapsed": false
   },
   "source": [
    "*Сначала найдем решение с помощью solve*"
   ]
  },
  {
   "cell_type": "code",
   "execution_count": 4,
   "metadata": {
    "collapsed": false
   },
   "outputs": [
    {
     "data": {
      "text/plain": [
       "[x == 1, x == 5, x == 3]"
      ]
     },
     "execution_count": 4,
     "metadata": {
     },
     "output_type": "execute_result"
    }
   ],
   "source": [
    "f(x) = x^3 - 9*x^2 + 23*x - 15\n",
    "solve([f(x) == 0], x)"
   ]
  },
  {
   "cell_type": "markdown",
   "metadata": {
    "collapsed": false
   },
   "source": [
    "*Метод дихотомии*"
   ]
  },
  {
   "cell_type": "code",
   "execution_count": 5,
   "metadata": {
    "collapsed": false
   },
   "outputs": [
   ],
   "source": [
    "def dichotomy(fun, a, b, eps=1e-5):\n",
    "    if fun(x=a)*fun(x=b) > 0:\n",
    "        return None\n",
    "    m = (a+b)/2.0\n",
    "    if abs(fun(x=m).n()) < eps:\n",
    "        return m\n",
    "    if fun(x=m)*fun(x=a) < 0:\n",
    "        return dichotomy(fun, a, m)\n",
    "    else:\n",
    "        return dichotomy(fun, m, b)"
   ]
  },
  {
   "cell_type": "markdown",
   "metadata": {
    "collapsed": false
   },
   "source": [
    "*Метод Ньютона*"
   ]
  },
  {
   "cell_type": "code",
   "execution_count": 6,
   "metadata": {
    "collapsed": false
   },
   "outputs": [
   ],
   "source": [
    "def newton(fun, a, b, eps=1e-5):\n",
    "    x1 = a\n",
    "    x2 = (a + b) / 2\n",
    "    df = fun.derivative()\n",
    "    while abs(x2 - x1) >= eps:\n",
    "        x1 = x2\n",
    "        x2 = x1 - fun(x=x1)/df(x=x1)\n",
    "    if abs(fun(x=x1)) <= 1e-3:\n",
    "        return x1\n",
    "    else:\n",
    "        return None"
   ]
  },
  {
   "cell_type": "code",
   "execution_count": 7,
   "metadata": {
    "collapsed": false
   },
   "outputs": [
   ],
   "source": [
    "a = (0, 2, 0.5)\n",
    "b = (0, 2, 0.5)\n",
    "step = (1, 2, 1)"
   ]
  },
  {
   "cell_type": "code",
   "execution_count": 9,
   "metadata": {
    "collapsed": false,
    "scrolled": true
   },
   "outputs": [
    {
     "data": {
      "application/vnd.jupyter.widget-view+json": {
       "model_id": "19b6e65fb3f149e380998f9f98a6b877",
       "version_major": 2,
       "version_minor": 0
      },
      "text/plain": [
       "Interactive function <function funcs_interact at 0x7efd6ce91550> with 3 widgets\n",
       "  a: FloatSlider(value=1.0, de…"
      ]
     },
     "execution_count": 9,
     "metadata": {
     },
     "output_type": "execute_result"
    }
   ],
   "source": [
    "@interact\n",
    "def funcs_interact(a=a, b=b, step=step):\n",
    "    xmin = -1\n",
    "    xmax = 5.5\n",
    "    ymin = -4\n",
    "    ymax = 5\n",
    "    eps = 1e-5\n",
    "    #функция\n",
    "    f(x) = x^3 - 9*x^2 + 23*x - 15\n",
    "    #значения корней методом дихотомии и Ньютона\n",
    "    di = [dichotomy(f, a, b, eps)]\n",
    "    di.append(dichotomy(f, a+step, b+step, eps))\n",
    "    di.append(dichotomy(f, a+2*step, b+2*step, eps))\n",
    "    newt = [newton(f, a, b, eps)]\n",
    "    newt.append(newton(f, a+step, b+step, eps))\n",
    "    newt.append(newton(f, a+2*step, b+2*step, eps))\n",
    "    show(\"метод дихотомии - красные графики\")\n",
    "    show(\"метод Ньютона - синие\")\n",
    "    gr = [plot(f, (x, xmin, xmax), ymin=ymin, ymax=ymax, aspect_ratio=1, figsize=[3,2], color='red')]*3\n",
    "    gr.extend([plot(f, (x, xmin, xmax), ymin=ymin, ymax=ymax, aspect_ratio=1, figsize=[3,2], color='blue')]*3)\n",
    "    for i in range(len(gr)):\n",
    "        if i <= 2 and di[i] is not None:\n",
    "            gr[i] += point((float(di[i]), 0), color='green', aspect_ratio=1, size=30)\n",
    "        if i > 2 and newt[i-3] is not None:\n",
    "            gr[i] += point((float(newt[i-3]), 0), color='green', aspect_ratio=1, size=30)\n",
    "\n",
    "    #вывод массива графиков\n",
    "    graphics_array([[gr[0], gr[1], gr[2]], [gr[3], gr[4], gr[5]]]).show(frame=True)\n",
    "\n",
    "    str_ = \"Корни, полученные методом дихотомии: \"\n",
    "    for d in di:\n",
    "        if d is not None:\n",
    "            str_ += str(round(float(d))) + \" \"\n",
    "    str_ += \"\\nКорни, полученные методом Ньютона: \"\n",
    "    for n in newt:\n",
    "        if n is not None:\n",
    "            str_ += str(round(float(n))) + \" \"\n",
    "    show(str_)"
   ]
  },
  {
   "cell_type": "markdown",
   "metadata": {
    "collapsed": false
   },
   "source": [
    "#### Таким образом, результат, найденный с помощью метода дихотомии и Ньютона (при правильном выборе границ) совпадает с результатом работы solve."
   ]
  },
  {
   "cell_type": "markdown",
   "metadata": {
    "collapsed": false
   },
   "source": [
    "## Задание 2"
   ]
  },
  {
   "cell_type": "markdown",
   "metadata": {
    "collapsed": false
   },
   "source": [
    "### Вариант 4"
   ]
  },
  {
   "cell_type": "code",
   "execution_count": 10,
   "metadata": {
    "collapsed": false
   },
   "outputs": [
    {
     "data": {
      "text/html": [
       "<html><script type=\"math/tex; mode=display\">\\newcommand{\\Bold}[1]{\\mathbf{#1}}\\verb|f|\\phantom{\\verb!x!}\\verb|=| 5 x^{5} - 21 x^{4} + 23 x^{3} - 37 x^{2} + 77 x - 7</script></html>"
      ],
      "text/latex": [
       "\\begin{math}\n",
       "\\newcommand{\\Bold}[1]{\\mathbf{#1}}\\verb|f|\\phantom{\\verb!x!}\\verb|=| 5 x^{5} - 21 x^{4} + 23 x^{3} - 37 x^{2} + 77 x - 7\n",
       "\\end{math}"
      ],
      "text/plain": [
       "'f = ' 5*x^5 - 21*x^4 + 23*x^3 - 37*x^2 + 77*x - 7"
      ]
     },
     "execution_count": 10,
     "metadata": {
     },
     "output_type": "execute_result"
    },
    {
     "data": {
      "text/html": [
       "<html><script type=\"math/tex; mode=display\">\\newcommand{\\Bold}[1]{\\mathbf{#1}}\\verb|g|\\phantom{\\verb!x!}\\verb|=| 10 x^{4} - 42 x^{3} + 56 x^{2} - 26 x + 2</script></html>"
      ],
      "text/latex": [
       "\\begin{math}\n",
       "\\newcommand{\\Bold}[1]{\\mathbf{#1}}\\verb|g|\\phantom{\\verb!x!}\\verb|=| 10 x^{4} - 42 x^{3} + 56 x^{2} - 26 x + 2\n",
       "\\end{math}"
      ],
      "text/plain": [
       "'g = ' 10*x^4 - 42*x^3 + 56*x^2 - 26*x + 2"
      ]
     },
     "execution_count": 10,
     "metadata": {
     },
     "output_type": "execute_result"
    }
   ],
   "source": [
    "R, (x, y) = PolynomialRing(QQ,'x, y').objgens()\n",
    "f = 5*x^5 - 21*x^4 + 23*x^3 - 37*x^2 + 77*x - 7\n",
    "g = 10*x^4 - 42*x^3 + 56*x^2 - 26*x + 2\n",
    "show(\"f = \", f)\n",
    "show(\"g = \", g)"
   ]
  },
  {
   "cell_type": "markdown",
   "metadata": {
    "collapsed": false
   },
   "source": [
    "*получим НОД с помощью стандартной функции gcd:*"
   ]
  },
  {
   "cell_type": "code",
   "execution_count": 13,
   "metadata": {
    "collapsed": false,
    "scrolled": true
   },
   "outputs": [
    {
     "data": {
      "text/html": [
       "<html><script type=\"math/tex; mode=display\">\\newcommand{\\Bold}[1]{\\mathbf{#1}}\\verb|НОД|\\phantom{\\verb!x!}\\verb|=| 5 x^{2} - 11 x + 1</script></html>"
      ],
      "text/latex": [
       "\\begin{math}\n",
       "\\newcommand{\\Bold}[1]{\\mathbf{#1}}\\verb|НОД|\\phantom{\\verb!x!}\\verb|=| 5 x^{2} - 11 x + 1\n",
       "\\end{math}"
      ],
      "text/plain": [
       "'НОД =' 5*x^2 - 11*x + 1"
      ]
     },
     "execution_count": 13,
     "metadata": {
     },
     "output_type": "execute_result"
    }
   ],
   "source": [
    "res_gcd = gcd(f, g)\n",
    "show(\"НОД =\", res_gcd)"
   ]
  },
  {
   "cell_type": "markdown",
   "metadata": {
    "collapsed": false
   },
   "source": [
    "*получим НОД с помощью реализованной здесь функции gcd:*"
   ]
  },
  {
   "cell_type": "code",
   "execution_count": 16,
   "metadata": {
    "collapsed": false
   },
   "outputs": [
   ],
   "source": [
    "def MyGcd(p1, p2):\n",
    "    while p1 != 0 and p2 != 0:\n",
    "        if p1 >= p2:\n",
    "            p1 %= p2\n",
    "        else:\n",
    "            p2 %= p1\n",
    "    return p1 or p2"
   ]
  },
  {
   "cell_type": "code",
   "execution_count": 19,
   "metadata": {
    "collapsed": false,
    "scrolled": true
   },
   "outputs": [
    {
     "data": {
      "text/html": [
       "<html><script type=\"math/tex; mode=display\">\\newcommand{\\Bold}[1]{\\mathbf{#1}}\\verb|НОД|\\phantom{\\verb!x!}\\verb|=| 5 x^{2} - 11 x + 1</script></html>"
      ],
      "text/latex": [
       "\\begin{math}\n",
       "\\newcommand{\\Bold}[1]{\\mathbf{#1}}\\verb|НОД|\\phantom{\\verb!x!}\\verb|=| 5 x^{2} - 11 x + 1\n",
       "\\end{math}"
      ],
      "text/plain": [
       "'НОД =' 5*x^2 - 11*x + 1"
      ]
     },
     "execution_count": 19,
     "metadata": {
     },
     "output_type": "execute_result"
    }
   ],
   "source": [
    "my_gcd = MyGcd(f, g)/128\n",
    "show(\"НОД =\", my_gcd)"
   ]
  },
  {
   "cell_type": "code",
   "execution_count": 22,
   "metadata": {
    "collapsed": false
   },
   "outputs": [
    {
     "data": {
      "text/html": [
       "<html><script type=\"math/tex; mode=display\">\\newcommand{\\Bold}[1]{\\mathbf{#1}}\\verb|НОД|\\phantom{\\verb!x!}\\verb|вычислен|\\phantom{\\verb!x!}\\verb|верно!|</script></html>"
      ],
      "text/latex": [
       "\\begin{math}\n",
       "\\newcommand{\\Bold}[1]{\\mathbf{#1}}\\verb|НОД|\\phantom{\\verb!x!}\\verb|вычислен|\\phantom{\\verb!x!}\\verb|верно!|\n",
       "\\end{math}"
      ],
      "text/plain": [
       "'НОД вычислен верно!'"
      ]
     },
     "execution_count": 22,
     "metadata": {
     },
     "output_type": "execute_result"
    }
   ],
   "source": [
    "if my_gcd == res_gcd:\n",
    "    show(\"НОД вычислен верно!\")\n",
    "else:\n",
    "    show(\"НОД вычислен неверно!\")"
   ]
  },
  {
   "cell_type": "markdown",
   "metadata": {
    "collapsed": false
   },
   "source": [
    "*получим представление НОД в виде: f*u + v*g*"
   ]
  },
  {
   "cell_type": "code",
   "execution_count": 20,
   "metadata": {
    "collapsed": false
   },
   "outputs": [
   ],
   "source": [
    "#функция вычисления коэффициентов тождества Безу и gcd(a,b)\n",
    "def bezout(a, b):\n",
    "    x, xx, y, yy = 1, 0, 0, 1\n",
    "    while b:\n",
    "        q, r = a // b, a % b\n",
    "        a = b\n",
    "        b = r\n",
    "        x, xx = xx, x - xx*q\n",
    "        y, yy = yy, y - yy*q\n",
    "    return (x, y, a)"
   ]
  },
  {
   "cell_type": "code",
   "execution_count": 24,
   "metadata": {
    "collapsed": false
   },
   "outputs": [
    {
     "data": {
      "text/html": [
       "<html><script type=\"math/tex; mode=display\">\\newcommand{\\Bold}[1]{\\mathbf{#1}}\\verb|коэффициенты|\\phantom{\\verb!x!}\\verb|тождества|\\phantom{\\verb!x!}\\verb|Безу:| \\left(2 x - 18, -x^{2} + 9 x + 1, 640 x^{2} - 1408 x + 128\\right)</script></html>"
      ],
      "text/latex": [
       "\\begin{math}\n",
       "\\newcommand{\\Bold}[1]{\\mathbf{#1}}\\verb|коэффициенты|\\phantom{\\verb!x!}\\verb|тождества|\\phantom{\\verb!x!}\\verb|Безу:| \\left(2 x - 18, -x^{2} + 9 x + 1, 640 x^{2} - 1408 x + 128\\right)\n",
       "\\end{math}"
      ],
      "text/plain": [
       "'коэффициенты тождества Безу: ' (2*x - 18, -x^2 + 9*x + 1, 640*x^2 - 1408*x + 128)"
      ]
     },
     "execution_count": 24,
     "metadata": {
     },
     "output_type": "execute_result"
    }
   ],
   "source": [
    "bez = bezout(f, g)\n",
    "show(\"коэффициенты тождества Безу: \",bez)"
   ]
  },
  {
   "cell_type": "code",
   "execution_count": 23,
   "metadata": {
    "collapsed": false
   },
   "outputs": [
    {
     "data": {
      "text/html": [
       "<html><script type=\"math/tex; mode=display\">\\newcommand{\\Bold}[1]{\\mathbf{#1}}\\verb|НОД|\\phantom{\\verb!x!}\\verb|=| 640 x^{2} - 1408 x + 128</script></html>"
      ],
      "text/latex": [
       "\\begin{math}\n",
       "\\newcommand{\\Bold}[1]{\\mathbf{#1}}\\verb|НОД|\\phantom{\\verb!x!}\\verb|=| 640 x^{2} - 1408 x + 128\n",
       "\\end{math}"
      ],
      "text/plain": [
       "'НОД =' 640*x^2 - 1408*x + 128"
      ]
     },
     "execution_count": 23,
     "metadata": {
     },
     "output_type": "execute_result"
    },
    {
     "data": {
      "text/html": [
       "<html><script type=\"math/tex; mode=display\">\\newcommand{\\Bold}[1]{\\mathbf{#1}}\\verb|НОД|\\phantom{\\verb!x!}\\verb|=| 640 x^{2} - 1408 x + 128</script></html>"
      ],
      "text/latex": [
       "\\begin{math}\n",
       "\\newcommand{\\Bold}[1]{\\mathbf{#1}}\\verb|НОД|\\phantom{\\verb!x!}\\verb|=| 640 x^{2} - 1408 x + 128\n",
       "\\end{math}"
      ],
      "text/plain": [
       "'НОД =' 640*x^2 - 1408*x + 128"
      ]
     },
     "execution_count": 23,
     "metadata": {
     },
     "output_type": "execute_result"
    },
    {
     "data": {
      "text/html": [
       "<html><script type=\"math/tex; mode=display\">\\newcommand{\\Bold}[1]{\\mathbf{#1}}\\verb|Получено|\\phantom{\\verb!x!}\\verb|верное|\\phantom{\\verb!x!}\\verb|тождество|</script></html>"
      ],
      "text/latex": [
       "\\begin{math}\n",
       "\\newcommand{\\Bold}[1]{\\mathbf{#1}}\\verb|Получено|\\phantom{\\verb!x!}\\verb|верное|\\phantom{\\verb!x!}\\verb|тождество|\n",
       "\\end{math}"
      ],
      "text/plain": [
       "'Получено верное тождество'"
      ]
     },
     "execution_count": 23,
     "metadata": {
     },
     "output_type": "execute_result"
    }
   ],
   "source": [
    "#gcd(a,b) - левая часть тождества\n",
    "show(\"НОД =\", f*bez[0]+bez[1]*g)\n",
    "\n",
    "#gcd(a,b) - правая часть тождества\n",
    "show(\"НОД =\", bez[2])\n",
    "\n",
    "#проверка тождества Безу f*u + v*g = gcd(f, g)\n",
    "if (f*bez[0]+bez[1]*g) - bez[2] == 0:\n",
    "    show(\"Получено верное тождество\")\n",
    "else:\n",
    "    show(\"Получено неверное тождество\")"
   ]
  },
  {
   "cell_type": "markdown",
   "metadata": {
    "collapsed": false
   },
   "source": [
    "#### Как и в реализации gcd, здесь результат совпадает с результатом стандартной функции gcd, умноженной на константу c=128"
   ]
  }
 ],
 "metadata": {
  "kernelspec": {
   "display_name": "SageMath 9.2",
   "language": "sagemath",
   "metadata": {
    "cocalc": {
     "description": "Open-source mathematical software system",
     "priority": 10,
     "url": "https://www.sagemath.org/"
    }
   },
   "name": "sage-9.2",
   "resource_dir": "/ext/jupyter/kernels/sage-9.2"
  },
  "language_info": {
   "codemirror_mode": {
    "name": "ipython",
    "version": 3
   },
   "file_extension": ".py",
   "mimetype": "text/x-python",
   "name": "python",
   "nbconvert_exporter": "python",
   "pygments_lexer": "ipython3",
   "version": "3.8.5"
  }
 },
 "nbformat": 4,
 "nbformat_minor": 4
}