{
 "cells": [
  {
   "cell_type": "markdown",
   "metadata": {
    "collapsed": false
   },
   "source": [
    "# Исследование графиков"
   ]
  },
  {
   "cell_type": "markdown",
   "metadata": {
    "collapsed": false
   },
   "source": [
    "### Вариант задания: 6"
   ]
  },
  {
   "cell_type": "markdown",
   "metadata": {
    "collapsed": false
   },
   "source": [
    "#### Заданная формула функции:"
   ]
  },
  {
   "cell_type": "code",
   "execution_count": 2,
   "metadata": {
    "collapsed": false
   },
   "outputs": [
    {
     "data": {
      "text/html": [
       "<html><script type=\"math/tex; mode=display\">\\newcommand{\\Bold}[1]{\\mathbf{#1}}\\verb|y|\\phantom{\\verb!x!}\\verb|=| 2 \\, \\log\\left(\\frac{x - 1}{x}\\right) + 1</script></html>"
      ],
      "text/latex": [
       "\\begin{math}\n",
       "\\newcommand{\\Bold}[1]{\\mathbf{#1}}\\verb|y|\\phantom{\\verb!x!}\\verb|=| 2 \\, \\log\\left(\\frac{x - 1}{x}\\right) + 1\n",
       "\\end{math}"
      ],
      "text/plain": [
       "'y =  ' 2*log((x - 1)/x) + 1"
      ]
     },
     "execution_count": 2,
     "metadata": {
     },
     "output_type": "execute_result"
    }
   ],
   "source": [
    "var('x')\n",
    "var('y')\n",
    "y = 2*log((x - 1) / x) + 1\n",
    "show(\"y =  \", y)"
   ]
  },
  {
   "cell_type": "markdown",
   "metadata": {
    "collapsed": false
   },
   "source": [
    "#### Область определения:"
   ]
  },
  {
   "cell_type": "code",
   "execution_count": 2,
   "metadata": {
    "collapsed": false
   },
   "outputs": [
    {
     "data": {
      "text/html": [
       "<html><script type=\"math/tex; mode=display\">\\newcommand{\\Bold}[1]{\\mathbf{#1}}\\verb|D:| \\left(-\\infty, 0\\right) \\verb|⋃| \\left(1, +\\infty\\right)</script></html>"
      ],
      "text/latex": [
       "\\begin{math}\n",
       "\\newcommand{\\Bold}[1]{\\mathbf{#1}}\\verb|D:| \\left(-\\infty, 0\\right) \\verb|⋃| \\left(1, +\\infty\\right)\n",
       "\\end{math}"
      ],
      "text/plain": [
       "'D: ' (-Infinity, 0) '⋃' (1, +Infinity)"
      ]
     },
     "execution_count": 2,
     "metadata": {
     },
     "output_type": "execute_result"
    }
   ],
   "source": [
    "D1 = (-infinity, 0)\n",
    "D2 = (1, +infinity)\n",
    "show(\"D: \", D1, \"⋃\", D2)"
   ]
  },
  {
   "cell_type": "markdown",
   "metadata": {
    "collapsed": false
   },
   "source": [
    "#### Четность/нечетность:"
   ]
  },
  {
   "cell_type": "code",
   "execution_count": 3,
   "metadata": {
    "collapsed": false
   },
   "outputs": [
    {
     "data": {
      "text/html": [
       "<html><script type=\"math/tex; mode=display\">\\newcommand{\\Bold}[1]{\\mathbf{#1}}\\verb|Функция|\\phantom{\\verb!x!}\\verb|не|\\phantom{\\verb!x!}\\verb|является|\\phantom{\\verb!x!}\\verb|четной|</script></html>"
      ],
      "text/latex": [
       "\\begin{math}\n",
       "\\newcommand{\\Bold}[1]{\\mathbf{#1}}\\verb|Функция|\\phantom{\\verb!x!}\\verb|не|\\phantom{\\verb!x!}\\verb|является|\\phantom{\\verb!x!}\\verb|четной|\n",
       "\\end{math}"
      ],
      "text/plain": [
       "'Функция не является четной'"
      ]
     },
     "execution_count": 3,
     "metadata": {
     },
     "output_type": "execute_result"
    },
    {
     "data": {
      "text/html": [
       "<html><script type=\"math/tex; mode=display\">\\newcommand{\\Bold}[1]{\\mathbf{#1}}\\verb|Функция|\\phantom{\\verb!x!}\\verb|не|\\phantom{\\verb!x!}\\verb|является|\\phantom{\\verb!x!}\\verb|нечетной|</script></html>"
      ],
      "text/latex": [
       "\\begin{math}\n",
       "\\newcommand{\\Bold}[1]{\\mathbf{#1}}\\verb|Функция|\\phantom{\\verb!x!}\\verb|не|\\phantom{\\verb!x!}\\verb|является|\\phantom{\\verb!x!}\\verb|нечетной|\n",
       "\\end{math}"
      ],
      "text/plain": [
       "'Функция не является нечетной'"
      ]
     },
     "execution_count": 3,
     "metadata": {
     },
     "output_type": "execute_result"
    }
   ],
   "source": [
    "if (y(-x).simplify() != y(x).simplify()):\n",
    "    show(\"Функция не является четной\")\n",
    "else:\n",
    "    show(\"Функция является четной\")\n",
    "\n",
    "if (y(-x).simplify() != -y(x).simplify()):\n",
    "    show(\"Функция не является нечетной\")\n",
    "else:\n",
    "    show(\"Функция является нечетной\")"
   ]
  },
  {
   "cell_type": "markdown",
   "metadata": {
    "collapsed": false
   },
   "source": [
    "#### Точки пересечения функции с осями координат:"
   ]
  },
  {
   "cell_type": "markdown",
   "metadata": {
    "collapsed": false
   },
   "source": [
    "График никогда не будет пересекать ось Oy, что следует из области определения функции"
   ]
  },
  {
   "cell_type": "code",
   "execution_count": 4,
   "metadata": {
    "collapsed": false
   },
   "outputs": [
    {
     "data": {
      "text/html": [
       "<html><script type=\"math/tex; mode=display\">\\newcommand{\\Bold}[1]{\\mathbf{#1}}\\left[x = \\frac{e^{\\frac{1}{2}}}{e^{\\frac{1}{2}} - 1}\\right]</script></html>"
      ],
      "text/latex": [
       "\\begin{math}\n",
       "\\newcommand{\\Bold}[1]{\\mathbf{#1}}\\left[x = \\frac{e^{\\frac{1}{2}}}{e^{\\frac{1}{2}} - 1}\\right]\n",
       "\\end{math}"
      ],
      "text/plain": [
       "[x == e^(1/2)/(e^(1/2) - 1)]"
      ]
     },
     "execution_count": 4,
     "metadata": {
     },
     "output_type": "execute_result"
    }
   ],
   "source": [
    "var(\"x0\")\n",
    "x0 = solve(y == 0, x)\n",
    "show(x0)"
   ]
  },
  {
   "cell_type": "markdown",
   "metadata": {
    "collapsed": false
   },
   "source": [
    "График пересечет ось Ox в точке, указанной выше"
   ]
  },
  {
   "cell_type": "markdown",
   "metadata": {
    "collapsed": false
   },
   "source": [
    "#### Промежутки знакопостоянства:"
   ]
  },
  {
   "cell_type": "code",
   "execution_count": 5,
   "metadata": {
    "collapsed": false
   },
   "outputs": [
    {
     "data": {
      "text/html": [
       "<html><script type=\"math/tex; mode=display\">\\newcommand{\\Bold}[1]{\\mathbf{#1}}\\verb|y(x)>0:| \\left(-\\infty, 0\\right) \\verb|⋃| \\left(x = \\frac{e^{\\frac{1}{2}}}{e^{\\frac{1}{2}} - 1}, +\\infty\\right)</script></html>"
      ],
      "text/latex": [
       "\\begin{math}\n",
       "\\newcommand{\\Bold}[1]{\\mathbf{#1}}\\verb|y(x)>0:| \\left(-\\infty, 0\\right) \\verb|⋃| \\left(x = \\frac{e^{\\frac{1}{2}}}{e^{\\frac{1}{2}} - 1}, +\\infty\\right)\n",
       "\\end{math}"
      ],
      "text/plain": [
       "'y(x)>0: ' (-Infinity, 0) '⋃' (x == e^(1/2)/(e^(1/2) - 1), +Infinity)"
      ]
     },
     "execution_count": 5,
     "metadata": {
     },
     "output_type": "execute_result"
    },
    {
     "data": {
      "text/html": [
       "<html><script type=\"math/tex; mode=display\">\\newcommand{\\Bold}[1]{\\mathbf{#1}}\\verb|y(x)<0:| \\left(0, x = \\frac{e^{\\frac{1}{2}}}{e^{\\frac{1}{2}} - 1}\\right)</script></html>"
      ],
      "text/latex": [
       "\\begin{math}\n",
       "\\newcommand{\\Bold}[1]{\\mathbf{#1}}\\verb|y(x)<0:| \\left(0, x = \\frac{e^{\\frac{1}{2}}}{e^{\\frac{1}{2}} - 1}\\right)\n",
       "\\end{math}"
      ],
      "text/plain": [
       "'y(x)<0: ' (0, x == e^(1/2)/(e^(1/2) - 1))"
      ]
     },
     "execution_count": 5,
     "metadata": {
     },
     "output_type": "execute_result"
    }
   ],
   "source": [
    "s1 = (-infinity,0)\n",
    "s2 = (0,x0[0])\n",
    "s3 = (x0[0],+infinity)\n",
    "show(\"y(x)>0: \",s1, \"⋃\", s3)\n",
    "show(\"y(x)<0: \",s2)\n"
   ]
  },
  {
   "cell_type": "markdown",
   "metadata": {
    "collapsed": false
   },
   "source": [
    "#### Промежутки возрастания и убывания:"
   ]
  },
  {
   "cell_type": "code",
   "execution_count": 6,
   "metadata": {
    "collapsed": false
   },
   "outputs": [
    {
     "data": {
      "text/html": [
       "<html><script type=\"math/tex; mode=display\">\\newcommand{\\Bold}[1]{\\mathbf{#1}}\\verb|dy=| -\\frac{2 \\, x {\\left(\\frac{x - 1}{x^{2}} - \\frac{1}{x}\\right)}}{x - 1}</script></html>"
      ],
      "text/latex": [
       "\\begin{math}\n",
       "\\newcommand{\\Bold}[1]{\\mathbf{#1}}\\verb|dy=| -\\frac{2 \\, x {\\left(\\frac{x - 1}{x^{2}} - \\frac{1}{x}\\right)}}{x - 1}\n",
       "\\end{math}"
      ],
      "text/plain": [
       "'dy= ' -2*x*((x - 1)/x^2 - 1/x)/(x - 1)"
      ]
     },
     "execution_count": 6,
     "metadata": {
     },
     "output_type": "execute_result"
    }
   ],
   "source": [
    "var('dy')\n",
    "dy = y.derivative()\n",
    "show(\"dy= \",dy)"
   ]
  },
  {
   "cell_type": "markdown",
   "metadata": {
    "collapsed": false
   },
   "source": [
    "y(x) возрастает на D, то есть при:"
   ]
  },
  {
   "cell_type": "code",
   "execution_count": 7,
   "metadata": {
    "collapsed": false
   },
   "outputs": [
    {
     "data": {
      "text/html": [
       "<html><script type=\"math/tex; mode=display\">\\newcommand{\\Bold}[1]{\\mathbf{#1}}\\left[x < 0\\right] \\verb|,| \\left[x > 1\\right]</script></html>"
      ],
      "text/latex": [
       "\\begin{math}\n",
       "\\newcommand{\\Bold}[1]{\\mathbf{#1}}\\left[x < 0\\right] \\verb|,| \\left[x > 1\\right]\n",
       "\\end{math}"
      ],
      "text/plain": [
       "[x < 0] ',' [x > 1]"
      ]
     },
     "execution_count": 7,
     "metadata": {
     },
     "output_type": "execute_result"
    }
   ],
   "source": [
    "x_0 = solve(dy > 0, x)\n",
    "show(x_0[0],\",\", x_0[1])"
   ]
  },
  {
   "cell_type": "markdown",
   "metadata": {
    "collapsed": false
   },
   "source": [
    "#### Точки экстремума и значения в этих точках:"
   ]
  },
  {
   "cell_type": "markdown",
   "metadata": {
    "collapsed": false
   },
   "source": [
    "Экстремумов нет"
   ]
  },
  {
   "cell_type": "markdown",
   "metadata": {
    "collapsed": false
   },
   "source": [
    "#### Исследовать поведение функции в окрестности «особых» точек и при больших по модулю x:"
   ]
  },
  {
   "cell_type": "markdown",
   "metadata": {
    "collapsed": false
   },
   "source": [
    "Особые точки: 0; 1"
   ]
  },
  {
   "cell_type": "code",
   "execution_count": 8,
   "metadata": {
    "collapsed": false,
    "scrolled": true
   },
   "outputs": [
    {
     "data": {
      "text/html": [
       "<html><script type=\"math/tex; mode=display\">\\newcommand{\\Bold}[1]{\\mathbf{#1}}\\verb|y(1000)=| 2 \\, \\log\\left(\\frac{999}{1000}\\right) + 1 \\phantom{\\verb!x!}\\verb|;| \\verb|y(-1000)=| 2 \\, \\log\\left(\\frac{1001}{1000}\\right) + 1</script></html>"
      ],
      "text/latex": [
       "\\begin{math}\n",
       "\\newcommand{\\Bold}[1]{\\mathbf{#1}}\\verb|y(1000)=| 2 \\, \\log\\left(\\frac{999}{1000}\\right) + 1 \\phantom{\\verb!x!}\\verb|;| \\verb|y(-1000)=| 2 \\, \\log\\left(\\frac{1001}{1000}\\right) + 1\n",
       "\\end{math}"
      ],
      "text/plain": [
       "'y(1000)= ' 2*log(999/1000) + 1 ' ; ' 'y(-1000)= ' 2*log(1001/1000) + 1"
      ]
     },
     "execution_count": 8,
     "metadata": {
     },
     "output_type": "execute_result"
    }
   ],
   "source": [
    "show(\"y(1000)= \",y(1000), \" ; \",  \"y(-1000)= \", y(-1000))"
   ]
  },
  {
   "cell_type": "markdown",
   "metadata": {
    "collapsed": false
   },
   "source": [
    "При больших положительных и отрицательных значениях x функция стремится к 0 справа и к 0 слева соответственно"
   ]
  },
  {
   "cell_type": "markdown",
   "metadata": {
    "collapsed": false
   },
   "source": [
    "#### Непрерывность. Наличие точек разрыва и их классификация:"
   ]
  },
  {
   "cell_type": "code",
   "execution_count": 6,
   "metadata": {
    "collapsed": false
   },
   "outputs": [
    {
     "data": {
      "text/html": [
       "<html><script type=\"math/tex; mode=display\">\\newcommand{\\Bold}[1]{\\mathbf{#1}}\\verb|Предел|\\phantom{\\verb!x!}\\verb|справа|\\phantom{\\verb!x!}\\verb|для|\\phantom{\\verb!x!}\\verb|точки|\\phantom{\\verb!x!}\\verb|x1:|\\phantom{\\verb!x!}\\verb|не|\\phantom{\\verb!x!}\\verb|существует|\\phantom{\\verb!x!}\\verb|на|\\phantom{\\verb!x!}\\verb|D|</script></html>"
      ],
      "text/latex": [
       "\\begin{math}\n",
       "\\newcommand{\\Bold}[1]{\\mathbf{#1}}\\verb|Предел|\\phantom{\\verb!x!}\\verb|справа|\\phantom{\\verb!x!}\\verb|для|\\phantom{\\verb!x!}\\verb|точки|\\phantom{\\verb!x!}\\verb|x1:|\\phantom{\\verb!x!}\\verb|не|\\phantom{\\verb!x!}\\verb|существует|\\phantom{\\verb!x!}\\verb|на|\\phantom{\\verb!x!}\\verb|D|\n",
       "\\end{math}"
      ],
      "text/plain": [
       "'Предел справа для точки x1: не существует на D'"
      ]
     },
     "execution_count": 6,
     "metadata": {
     },
     "output_type": "execute_result"
    },
    {
     "data": {
      "text/html": [
       "<html><script type=\"math/tex; mode=display\">\\newcommand{\\Bold}[1]{\\mathbf{#1}}\\verb|Предел|\\phantom{\\verb!x!}\\verb|слева|\\phantom{\\verb!x!}\\verb|для|\\phantom{\\verb!x!}\\verb|точки|\\phantom{\\verb!x!}\\verb|x1:| +\\infty</script></html>"
      ],
      "text/latex": [
       "\\begin{math}\n",
       "\\newcommand{\\Bold}[1]{\\mathbf{#1}}\\verb|Предел|\\phantom{\\verb!x!}\\verb|слева|\\phantom{\\verb!x!}\\verb|для|\\phantom{\\verb!x!}\\verb|точки|\\phantom{\\verb!x!}\\verb|x1:| +\\infty\n",
       "\\end{math}"
      ],
      "text/plain": [
       "'Предел слева для точки x1: ' +Infinity"
      ]
     },
     "execution_count": 6,
     "metadata": {
     },
     "output_type": "execute_result"
    },
    {
     "data": {
      "text/html": [
       "<html><script type=\"math/tex; mode=display\">\\newcommand{\\Bold}[1]{\\mathbf{#1}}\\verb|Предел|\\phantom{\\verb!x!}\\verb|справа|\\phantom{\\verb!x!}\\verb|для|\\phantom{\\verb!x!}\\verb|точки|\\phantom{\\verb!x!}\\verb|x2:| -\\infty</script></html>"
      ],
      "text/latex": [
       "\\begin{math}\n",
       "\\newcommand{\\Bold}[1]{\\mathbf{#1}}\\verb|Предел|\\phantom{\\verb!x!}\\verb|справа|\\phantom{\\verb!x!}\\verb|для|\\phantom{\\verb!x!}\\verb|точки|\\phantom{\\verb!x!}\\verb|x2:| -\\infty\n",
       "\\end{math}"
      ],
      "text/plain": [
       "'Предел справа для точки x2: ' -Infinity"
      ]
     },
     "execution_count": 6,
     "metadata": {
     },
     "output_type": "execute_result"
    },
    {
     "data": {
      "text/html": [
       "<html><script type=\"math/tex; mode=display\">\\newcommand{\\Bold}[1]{\\mathbf{#1}}\\verb|Предел|\\phantom{\\verb!x!}\\verb|слева|\\phantom{\\verb!x!}\\verb|для|\\phantom{\\verb!x!}\\verb|точки|\\phantom{\\verb!x!}\\verb|x2:|\\phantom{\\verb!x!}\\verb|не|\\phantom{\\verb!x!}\\verb|существует|\\phantom{\\verb!x!}\\verb|на|\\phantom{\\verb!x!}\\verb|D|</script></html>"
      ],
      "text/latex": [
       "\\begin{math}\n",
       "\\newcommand{\\Bold}[1]{\\mathbf{#1}}\\verb|Предел|\\phantom{\\verb!x!}\\verb|слева|\\phantom{\\verb!x!}\\verb|для|\\phantom{\\verb!x!}\\verb|точки|\\phantom{\\verb!x!}\\verb|x2:|\\phantom{\\verb!x!}\\verb|не|\\phantom{\\verb!x!}\\verb|существует|\\phantom{\\verb!x!}\\verb|на|\\phantom{\\verb!x!}\\verb|D|\n",
       "\\end{math}"
      ],
      "text/plain": [
       "'Предел слева для точки x2: не существует на D'"
      ]
     },
     "execution_count": 6,
     "metadata": {
     },
     "output_type": "execute_result"
    },
    {
     "data": {
      "text/html": [
       "<html><script type=\"math/tex; mode=display\">\\newcommand{\\Bold}[1]{\\mathbf{#1}}\\verb|x1|\\phantom{\\verb!x!}\\verb|=|\\phantom{\\verb!x!}\\verb|0|\\phantom{\\verb!x!}\\verb|-|\\phantom{\\verb!x!}\\verb|точка|\\phantom{\\verb!x!}\\verb|разрыва|\\phantom{\\verb!x!}\\verb|2|\\phantom{\\verb!x!}\\verb|рода|</script></html>"
      ],
      "text/latex": [
       "\\begin{math}\n",
       "\\newcommand{\\Bold}[1]{\\mathbf{#1}}\\verb|x1|\\phantom{\\verb!x!}\\verb|=|\\phantom{\\verb!x!}\\verb|0|\\phantom{\\verb!x!}\\verb|-|\\phantom{\\verb!x!}\\verb|точка|\\phantom{\\verb!x!}\\verb|разрыва|\\phantom{\\verb!x!}\\verb|2|\\phantom{\\verb!x!}\\verb|рода|\n",
       "\\end{math}"
      ],
      "text/plain": [
       "'x1 = 0 - точка разрыва 2 рода'"
      ]
     },
     "execution_count": 6,
     "metadata": {
     },
     "output_type": "execute_result"
    },
    {
     "data": {
      "text/html": [
       "<html><script type=\"math/tex; mode=display\">\\newcommand{\\Bold}[1]{\\mathbf{#1}}\\verb|x2|\\phantom{\\verb!x!}\\verb|=|\\phantom{\\verb!x!}\\verb|1|\\phantom{\\verb!x!}\\verb|-|\\phantom{\\verb!x!}\\verb|точка|\\phantom{\\verb!x!}\\verb|разрыва|\\phantom{\\verb!x!}\\verb|2|\\phantom{\\verb!x!}\\verb|рода|</script></html>"
      ],
      "text/latex": [
       "\\begin{math}\n",
       "\\newcommand{\\Bold}[1]{\\mathbf{#1}}\\verb|x2|\\phantom{\\verb!x!}\\verb|=|\\phantom{\\verb!x!}\\verb|1|\\phantom{\\verb!x!}\\verb|-|\\phantom{\\verb!x!}\\verb|точка|\\phantom{\\verb!x!}\\verb|разрыва|\\phantom{\\verb!x!}\\verb|2|\\phantom{\\verb!x!}\\verb|рода|\n",
       "\\end{math}"
      ],
      "text/plain": [
       "'x2 = 1 - точка разрыва 2 рода'"
      ]
     },
     "execution_count": 6,
     "metadata": {
     },
     "output_type": "execute_result"
    }
   ],
   "source": [
    "k1 = limit(y(x), 'right', x=0)\n",
    "show(\"Предел справа для точки x1: не существует на D\")\n",
    "k2 = limit(y(x), 'left', x=0)\n",
    "show(\"Предел слева для точки x1: \",k2)\n",
    "k3 = limit(y(x), 'right', x=1)\n",
    "show(\"Предел справа для точки x2: \", k3)\n",
    "k4 = limit(y(x), 'left', x=1)\n",
    "show(\"Предел слева для точки x2: не существует на D\")\n",
    "if (k1 == k2 and k1 != abs(infinity) and k2 != abs(infinity)):\n",
    "    show(\"x1 = 0 - точка разрыва 1 рода\")\n",
    "else:\n",
    "    show(\"x1 = 0 - точка разрыва 2 рода\")\n",
    "if (k3 == k4 and k3 != abs(infinity) and k4 != abs(infinity)):\n",
    "    show(\"x2 = 1 - точка разрыва 1 рода\")\n",
    "else:\n",
    "    show(\"x2 = 1 - точка разрыва 2 рода\")"
   ]
  },
  {
   "cell_type": "markdown",
   "metadata": {
    "collapsed": false
   },
   "source": [
    "#### Асимптоты:"
   ]
  },
  {
   "cell_type": "code",
   "execution_count": 19,
   "metadata": {
    "collapsed": false
   },
   "outputs": [
    {
     "data": {
      "text/html": [
       "<html><script type=\"math/tex; mode=display\">\\newcommand{\\Bold}[1]{\\mathbf{#1}}\\verb|Уравнение|\\phantom{\\verb!x!}\\verb|асимптот:|\\phantom{\\verb!x!}\\verb|y|\\phantom{\\verb!x!}\\verb|=|\\phantom{\\verb!x!}\\verb|kx|\\phantom{\\verb!x!}\\verb|+|\\phantom{\\verb!x!}\\verb|b|</script></html>"
      ],
      "text/latex": [
       "\\begin{math}\n",
       "\\newcommand{\\Bold}[1]{\\mathbf{#1}}\\verb|Уравнение|\\phantom{\\verb!x!}\\verb|асимптот:|\\phantom{\\verb!x!}\\verb|y|\\phantom{\\verb!x!}\\verb|=|\\phantom{\\verb!x!}\\verb|kx|\\phantom{\\verb!x!}\\verb|+|\\phantom{\\verb!x!}\\verb|b|\n",
       "\\end{math}"
      ],
      "text/plain": [
       "'Уравнение асимптот: y = kx + b'"
      ]
     },
     "execution_count": 19,
     "metadata": {
     },
     "output_type": "execute_result"
    },
    {
     "data": {
      "text/html": [
       "<html><script type=\"math/tex; mode=display\">\\newcommand{\\Bold}[1]{\\mathbf{#1}}\\verb|k|\\phantom{\\verb!x!}\\verb|=| 0</script></html>"
      ],
      "text/latex": [
       "\\begin{math}\n",
       "\\newcommand{\\Bold}[1]{\\mathbf{#1}}\\verb|k|\\phantom{\\verb!x!}\\verb|=| 0\n",
       "\\end{math}"
      ],
      "text/plain": [
       "'k =' 0"
      ]
     },
     "execution_count": 19,
     "metadata": {
     },
     "output_type": "execute_result"
    },
    {
     "data": {
      "text/html": [
       "<html><script type=\"math/tex; mode=display\">\\newcommand{\\Bold}[1]{\\mathbf{#1}}\\verb|b|\\phantom{\\verb!x!}\\verb|=| 1</script></html>"
      ],
      "text/latex": [
       "\\begin{math}\n",
       "\\newcommand{\\Bold}[1]{\\mathbf{#1}}\\verb|b|\\phantom{\\verb!x!}\\verb|=| 1\n",
       "\\end{math}"
      ],
      "text/plain": [
       "'b = ' 1"
      ]
     },
     "execution_count": 19,
     "metadata": {
     },
     "output_type": "execute_result"
    },
    {
     "data": {
      "text/html": [
       "<html><script type=\"math/tex; mode=display\">\\newcommand{\\Bold}[1]{\\mathbf{#1}}\\verb|Горизонтальная|\\phantom{\\verb!x!}\\verb|асимптота:|\\phantom{\\verb!x!}\\verb|y|\\phantom{\\verb!x!}\\verb|=| 1</script></html>"
      ],
      "text/latex": [
       "\\begin{math}\n",
       "\\newcommand{\\Bold}[1]{\\mathbf{#1}}\\verb|Горизонтальная|\\phantom{\\verb!x!}\\verb|асимптота:|\\phantom{\\verb!x!}\\verb|y|\\phantom{\\verb!x!}\\verb|=| 1\n",
       "\\end{math}"
      ],
      "text/plain": [
       "'Горизонтальная асимптота: y = ' 1"
      ]
     },
     "execution_count": 19,
     "metadata": {
     },
     "output_type": "execute_result"
    },
    {
     "data": {
      "text/html": [
       "<html><script type=\"math/tex; mode=display\">\\newcommand{\\Bold}[1]{\\mathbf{#1}}\\verb|Вертикальные|\\phantom{\\verb!x!}\\verb|асимптоты:|\\phantom{\\verb!x!}\\verb|х1|\\phantom{\\verb!x!}\\verb|=|\\phantom{\\verb!x!}\\verb|0,|\\phantom{\\verb!x!}\\verb|x2|\\phantom{\\verb!x!}\\verb|=|\\phantom{\\verb!x!}\\verb|1|</script></html>"
      ],
      "text/latex": [
       "\\begin{math}\n",
       "\\newcommand{\\Bold}[1]{\\mathbf{#1}}\\verb|Вертикальные|\\phantom{\\verb!x!}\\verb|асимптоты:|\\phantom{\\verb!x!}\\verb|х1|\\phantom{\\verb!x!}\\verb|=|\\phantom{\\verb!x!}\\verb|0,|\\phantom{\\verb!x!}\\verb|x2|\\phantom{\\verb!x!}\\verb|=|\\phantom{\\verb!x!}\\verb|1|\n",
       "\\end{math}"
      ],
      "text/plain": [
       "'Вертикальные асимптоты: х1 = 0, x2 = 1'"
      ]
     },
     "execution_count": 19,
     "metadata": {
     },
     "output_type": "execute_result"
    }
   ],
   "source": [
    "show(\"Уравнение асимптот: y = kx + b\")\n",
    "k = limit((y(x)/x), x=infinity)\n",
    "show(\"k =\", k)\n",
    "b = limit((y(x) - k*x), x = infinity)\n",
    "show(\"b = \", b)\n",
    "show(\"Горизонтальная асимптота: y = \", k*x + b)\n",
    "show(\"Вертикальные асимптоты: х1 = 0, x2 = 1\")"
   ]
  },
  {
   "cell_type": "markdown",
   "metadata": {
    "collapsed": false
   },
   "source": [
    "#### Построение графика функции:"
   ]
  },
  {
   "cell_type": "code",
   "execution_count": 17,
   "metadata": {
    "collapsed": false
   },
   "outputs": [
    {
     "data": {
      "image/png": "[encoded data removed]",
      "text/plain": [
       "Graphics object consisting of 2 graphics primitives"
      ]
     },
     "execution_count": 17,
     "metadata": {
     },
     "output_type": "execute_result"
    }
   ],
   "source": [
    "plot(y, (x, -10, 10), ymin=-5, ymax=5)"
   ]
  }
 ],
 "metadata": {
  "kernelspec": {
   "display_name": "SageMath 9.2",
   "language": "sagemath",
   "metadata": {
    "cocalc": {
     "description": "Open-source mathematical software system",
     "priority": 10,
     "url": "https://www.sagemath.org/"
    }
   },
   "name": "sage-9.2",
   "resource_dir": "/ext/jupyter/kernels/sage-9.2"
  },
  "language_info": {
   "codemirror_mode": {
    "name": "ipython",
    "version": 3
   },
   "file_extension": ".py",
   "mimetype": "text/x-python",
   "name": "python",
   "nbconvert_exporter": "python",
   "pygments_lexer": "ipython3",
   "version": "3.8.5"
  }
 },
 "nbformat": 4,
 "nbformat_minor": 4
}